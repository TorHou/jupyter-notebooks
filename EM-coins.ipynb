{
 "cells": [
  {
   "cell_type": "code",
   "execution_count": 1,
   "metadata": {},
   "outputs": [
    {
     "name": "stderr",
     "output_type": "stream",
     "text": [
      "/home/houwaart/conda/lib/python2.7/site-packages/setuptools-20.3-py2.7.egg/pkg_resources/__init__.py:1248: UserWarning: /home/houwaart/.python-eggs is writable by group/others and vulnerable to attack when used with get_resource_filename. Consider a more secure location (set with .set_extraction_path or the PYTHON_EGG_CACHE environment variable).\n"
     ]
    }
   ],
   "source": [
    "import random\n",
    "import numpy as np \n",
    "from scipy.stats import binom\n",
    "from matplotlib import pyplot as plt\n",
    "random.seed()"
   ]
  },
  {
   "cell_type": "code",
   "execution_count": 2,
   "metadata": {
    "collapsed": true
   },
   "outputs": [],
   "source": [
    "def e_step (theta,x):\n",
    "    ez = {}\n",
    "    for i in ['a','b']:\n",
    "        ez[i] = []\n",
    "        for j in range(0,len(x)):\n",
    "            s = binom.pmf(x[j],10,theta['a']) + binom.pmf(x[j],10,theta['b'])\n",
    "            ez[i].append(binom.pmf(x[j],10,theta[i])/s)\n",
    "    return ez\n"
   ]
  },
  {
   "cell_type": "code",
   "execution_count": 3,
   "metadata": {
    "collapsed": true
   },
   "outputs": [],
   "source": [
    "def m_step(ez,x):\n",
    "    num = {'a':0, 'b':0}\n",
    "    new_theta = {'a':0, 'b':0}\n",
    "    den = {'a':0, 'b':0}\n",
    "    for i in ['a','b']:\n",
    "        for j in range(0,len(x)):\n",
    "            num[i] += ez[i][j]*x[j]\n",
    "            den[i] += ez[i][j]\n",
    "        new_theta[i] = num[i]/10/den[i]\n",
    "    return new_theta"
   ]
  },
  {
   "cell_type": "code",
   "execution_count": 4,
   "metadata": {
    "collapsed": true
   },
   "outputs": [],
   "source": [
    "expz = {}\n",
    "expzs = {}\n",
    "rounds = 10\n",
    "thetas = {}\n",
    "current_theta = {'a':0.6, 'b':0.5}\n",
    "x = [5, 9, 8, 4, 7]\n",
    "thetas[0] = current_theta\n",
    "\n",
    "for i in range(1,rounds+1):\n",
    "    expz = e_step(current_theta,x)\n",
    "    expzs[i] = expz\n",
    "    current_theta = m_step(expz,x)\n",
    "    thetas[i] = current_theta\n",
    "\n"
   ]
  },
  {
   "cell_type": "code",
   "execution_count": 5,
   "metadata": {},
   "outputs": [
    {
     "data": {
      "image/png": "[encoded data removed]",
      "text/plain": [
       "<matplotlib.figure.Figure at 0x7f083fbb1f50>"
      ]
     },
     "metadata": {},
     "output_type": "display_data"
    }
   ],
   "source": [
    "theta_A = [[thetas[i]['a']] for i in range(0,rounds+1)]\n",
    "theta_B = [[thetas[i]['b']] for i in range(0,rounds+1)]\n",
    "\n",
    "plt.plot(theta_A,'.-')\n",
    "plt.plot(theta_B,'.-')\n",
    "plt.ylim((0.4,0.9))\n",
    "plt.show()\n",
    "\n"
   ]
  },
  {
   "cell_type": "code",
   "execution_count": null,
   "metadata": {
    "collapsed": true
   },
   "outputs": [],
   "source": []
  }
 ],
 "metadata": {
  "kernelspec": {
   "display_name": "Python 2",
   "language": "python",
   "name": "python2"
  },
  "language_info": {
   "codemirror_mode": {
    "name": "ipython",
    "version": 2
   },
   "file_extension": ".py",
   "mimetype": "text/x-python",
   "name": "python",
   "nbconvert_exporter": "python",
   "pygments_lexer": "ipython2",
   "version": "2.7.12"
  }
 },
 "nbformat": 4,
 "nbformat_minor": 2
}
