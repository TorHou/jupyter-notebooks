{
 "cells": [
  {
   "cell_type": "code",
   "execution_count": 333,
   "metadata": {},
   "outputs": [],
   "source": [
    "import random\n",
    "import numpy as np \n",
    "from scipy.stats import binom\n",
    "from matplotlib import pyplot as plt\n",
    "#random.seed(23)\n",
    "random.seed()"
   ]
  },
  {
   "cell_type": "code",
   "execution_count": 348,
   "metadata": {
    "collapsed": true
   },
   "outputs": [],
   "source": [
    "coin_probs = [0.2,0.4,0.5,0.7]\n",
    "rounds = 500\n"
   ]
  },
  {
   "cell_type": "code",
   "execution_count": 341,
   "metadata": {
    "collapsed": true
   },
   "outputs": [],
   "source": [
    " rprob = random.sample(coin_probs,2)\n",
    "#rprob_b = random.sample(coin_probs\n",
    "rprob_a = rprob[0]\n",
    "rprob_b = rprob[1]"
   ]
  },
  {
   "cell_type": "code",
   "execution_count": 342,
   "metadata": {},
   "outputs": [
    {
     "name": "stdout",
     "output_type": "stream",
     "text": [
      "0.4\n",
      "0.7\n"
     ]
    }
   ],
   "source": [
    "print rprob_a\n",
    "print rprob_b\n"
   ]
  },
  {
   "cell_type": "code",
   "execution_count": null,
   "metadata": {},
   "outputs": [],
   "source": []
  },
  {
   "cell_type": "code",
   "execution_count": null,
   "metadata": {
    "collapsed": true
   },
   "outputs": [],
   "source": [
    "\n"
   ]
  },
  {
   "cell_type": "code",
   "execution_count": 349,
   "metadata": {},
   "outputs": [],
   "source": [
    "def e_step (theta,h):\n",
    "    ez = {}\n",
    "    for i in ['a','b']:\n",
    "        ez[i] = []\n",
    "        for j in range(0,rounds):\n",
    "            s = binom.pmf(h[j],10,theta['a']) + binom.pmf(h[j],10,theta['b'])\n",
    "            ez[i].append(binom.pmf(h[j],10,theta[i])/s)\n",
    "#ezb0 = binom.pmf(h[0],10,th_b0)/(binom.pmf(h[0],10,th_a0)+binom.pmf(h[0],10,th_b0))\n",
    "    return ez\n"
   ]
  },
  {
   "cell_type": "code",
   "execution_count": 350,
   "metadata": {
    "collapsed": true
   },
   "outputs": [],
   "source": [
    "def e_step_f (theta,h):\n",
    "    ez = {}\n",
    "    for i in ['a','b']:\n",
    "        ez[i] = []\n",
    "        for j in range(0,rounds):\n",
    "            s = binom.pmf(h[j],10,theta['a']) + binom.pmf(h[j],10,theta['b'])\n",
    "            ez[i].append(round(binom.pmf(h[j],10,theta[i])/s))\n",
    "#ezb0 = binom.pmf(h[0],10,th_b0)/(binom.pmf(h[0],10,th_a0)+binom.pmf(h[0],10,th_b0))\n",
    "    return ez\n"
   ]
  },
  {
   "cell_type": "code",
   "execution_count": 351,
   "metadata": {
    "collapsed": true
   },
   "outputs": [],
   "source": [
    "def m_step(ez,h):\n",
    "    nth = {'a':0, 'b':0}\n",
    "    new_th = {'a':0, 'b':0}\n",
    "    n={}\n",
    "    n['a'] = 0\n",
    "    n['b'] = 0\n",
    "    for i in ['a','b']:\n",
    "        for j in range(0,rounds):\n",
    "            nth[i] += ez[i][j]*h[j]\n",
    "    \n",
    "            n[i] += ez[i][j]\n",
    "            #print i +': ' + str(th[i])\n",
    "        new_th[i] = nth[i]/10/n[i]\n",
    "    return new_th"
   ]
  },
  {
   "cell_type": "code",
   "execution_count": 352,
   "metadata": {},
   "outputs": [
    {
     "name": "stdout",
     "output_type": "stream",
     "text": [
      "[4, 7, 5, 2, 4, 5, 5, 8, 7, 7, 6, 5, 8, 6, 5, 8, 4, 5, 3, 7, 9, 4, 8, 3, 8, 1, 7, 8, 3, 4, 7, 1, 3, 4, 6, 7, 3, 5, 4, 6, 4, 5, 2, 6, 7, 5, 9, 5, 10, 7, 6, 5, 6, 6, 6, 4, 7, 6, 6, 3, 4, 7, 9, 7, 5, 8, 3, 7, 6, 5, 6, 5, 8, 6, 6, 8, 5, 9, 7, 7, 7, 6, 3, 6, 8, 3, 6, 8, 5, 4, 6, 4, 4, 5, 2, 5, 9, 2, 3, 5, 7, 1, 3, 2, 2, 2, 5, 6, 8, 8, 2, 6, 10, 5, 4, 5, 8, 5, 2, 5, 6, 4, 4, 6, 8, 7, 8, 7, 9, 3, 6, 4, 5, 7, 3, 3, 8, 5, 5, 7, 4, 7, 7, 7, 7, 7, 6, 8, 3, 7, 6, 8, 5, 6, 5, 2, 6, 3, 8, 4, 1, 7, 7, 3, 8, 2, 6, 4, 5, 6, 5, 7, 4, 5, 4, 6, 1, 8, 2, 2, 6, 5, 6, 8, 3, 4, 4, 2, 4, 6, 7, 7, 3, 6, 2, 5, 3, 5, 7, 3, 7, 6, 5, 2, 3, 3, 4, 9, 8, 6, 5, 5, 1, 5, 5, 9, 2, 6, 4, 5, 4, 6, 5, 8, 7, 7, 6, 7, 7, 7, 6, 3, 6, 3, 7, 7, 7, 8, 7, 5, 5, 9, 4, 7, 9, 5, 8, 6, 9, 5, 5, 9, 5, 5, 4, 9, 8, 2, 3, 6, 8, 9, 5, 6, 10, 4, 3, 7, 4, 7, 6, 7, 6, 4, 3, 7, 9, 6, 8, 4, 4, 2, 4, 5, 5, 7, 5, 6, 8, 5, 7, 6, 4, 7, 5, 7, 2, 4, 9, 7, 6, 3, 7, 8, 4, 9, 4, 1, 9, 9, 5, 8, 8, 5, 6, 6, 1, 5, 7, 7, 5, 7, 8, 4, 2, 6, 4, 7, 8, 0, 7, 5, 4, 4, 7, 7, 4, 7, 6, 7, 9, 5, 5, 7, 4, 4, 6, 6, 0, 7, 3, 4, 3, 7, 4, 4, 6, 6, 7, 9, 6, 3, 6, 5, 7, 2, 5, 9, 8, 7, 4, 8, 4, 8, 8, 0, 10, 6, 6, 8, 5, 2, 8, 7, 2, 4, 6, 4, 9, 6, 4, 7, 5, 5, 3, 7, 6, 4, 8, 7, 6, 7, 2, 9, 6, 7, 7, 4, 5, 4, 9, 6, 6, 8, 4, 8, 3, 3, 7, 3, 7, 4, 7, 9, 8, 2, 6, 8, 7, 4, 4, 5, 2, 4, 4, 6, 7, 9, 8, 7, 3, 5, 7, 7, 5, 4, 7, 8, 5, 5, 5, 4, 3, 4, 4, 8, 5, 8, 6, 8, 4, 5, 7, 6, 4, 6, 3, 6, 3, 5, 2, 3, 7, 6, 5, 5, 7, 3, 8, 3, 8, 4, 8, 9, 3, 3, 4, 6, 8, 1, 3, 8, 6, 7, 3, 4, 7, 4, 5, 5]\n",
      "2759\n"
     ]
    }
   ],
   "source": [
    "nr = []\n",
    "dice = []\n",
    "for i in range(0,rounds):\n",
    "    die_p = random.choice([rprob_a,rprob_b])\n",
    "    dice.append(die_p)\n",
    "    nr.append(np.random.binomial(10, p=die_p))\n",
    "print nr    \n",
    "#print dice\n",
    "print sum(nr)"
   ]
  },
  {
   "cell_type": "code",
   "execution_count": 353,
   "metadata": {},
   "outputs": [
    {
     "name": "stdout",
     "output_type": "stream",
     "text": [
      "-0.4\n",
      "cth: {'a': 0.73916389872269517, 'b': 0.46583271738407173}\n",
      "cth: {'a': 0.70993549105441045, 'b': 0.43492190181149343}\n",
      "cth: {'a': 0.69682766057054046, 'b': 0.42192736105278222}\n",
      "cth: {'a': 0.6911997767982323, 'b': 0.41630532933689585}\n",
      "cth: {'a': 0.68882594198080027, 'b': 0.41385515945159396}\n",
      "cth: {'a': 0.6878299615483997, 'b': 0.41278592310012469}\n",
      "cth: {'a': 0.6874121382126217, 'b': 0.41231973648893305}\n",
      "cth: {'a': 0.68723654715159543, 'b': 0.41211682933866273}\n",
      "cth: {'a': 0.6871625837384101, 'b': 0.41202868264717957}\n",
      "cth: {'a': 0.6871313558274712, 'b': 0.41199045946522883}\n",
      "cth: {'a': 0.68711814274899452, 'b': 0.41197391145755707}\n",
      "cth: {'a': 0.68711254131022403, 'b': 0.41196675730890925}\n",
      "cth: {'a': 0.68711016267667591, 'b': 0.41196366805531986}\n",
      "cth: {'a': 0.68710915111460569, 'b': 0.4119623354175771}\n",
      "cth: {'a': 0.6871087203810321, 'b': 0.41196176103406673}\n",
      "cth: {'a': 0.68710853676942596, 'b': 0.41196151364469435}\n",
      "cth: {'a': 0.68710845842643875, 'b': 0.41196140715732321}\n",
      "cth: {'a': 0.68710842497223446, 'b': 0.41196136134374639}\n",
      "cth: {'a': 0.68710841067666528, 'b': 0.41196134164204062}\n"
     ]
    }
   ],
   "source": [
    "expz = {}\n",
    "expzs = {}\n",
    "ref_rounds = 20\n",
    "error = []\n",
    "cth = {'a':0.8, 'b':0.55}\n",
    "error.append(abs(rprob_a-cth['a'])+abs(rprob_b-cth['b']))\n",
    "\n",
    "print(rpbrob_a-cth['a'])\n",
    "\n",
    "for k in range(1,ref_rounds):\n",
    "    expz = e_step(cth,nr)\n",
    "    #expzs[k] = expz\n",
    "    #print 'expz: ' + str(expz)\n",
    "    cth = m_step(expz,nr)\n",
    "    error.append(abs(rprob_a-cth['a'])+abs(rprob_b-cth['b']))\n",
    "\n",
    "    print 'cth: ' + str(cth)\n",
    "\n",
    "    expz = {}\n",
    "\n",
    "\n"
   ]
  },
  {
   "cell_type": "code",
   "execution_count": 354,
   "metadata": {},
   "outputs": [
    {
     "ename": "KeyError",
     "evalue": "1",
     "output_type": "error",
     "traceback": [
      "\u001b[0;31m---------------------------------------------------------------------------\u001b[0m",
      "\u001b[0;31mKeyError\u001b[0m                                  Traceback (most recent call last)",
      "\u001b[0;32m<ipython-input-354-c025e5df3ad4>\u001b[0m in \u001b[0;36m<module>\u001b[0;34m()\u001b[0m\n\u001b[0;32m----> 1\u001b[0;31m \u001b[0mfirstV\u001b[0m \u001b[0;34m=\u001b[0m \u001b[0;34m[\u001b[0m\u001b[0;34m[\u001b[0m\u001b[0mexpzs\u001b[0m\u001b[0;34m[\u001b[0m\u001b[0mi\u001b[0m\u001b[0;34m]\u001b[0m\u001b[0;34m[\u001b[0m\u001b[0;34m'a'\u001b[0m\u001b[0;34m]\u001b[0m\u001b[0;34m[\u001b[0m\u001b[0mj\u001b[0m\u001b[0;34m]\u001b[0m \u001b[0;32mfor\u001b[0m \u001b[0mj\u001b[0m \u001b[0;32min\u001b[0m \u001b[0mrange\u001b[0m\u001b[0;34m(\u001b[0m\u001b[0;36m0\u001b[0m\u001b[0;34m,\u001b[0m\u001b[0mrounds\u001b[0m\u001b[0;34m)\u001b[0m\u001b[0;34m]\u001b[0m \u001b[0;32mfor\u001b[0m \u001b[0mi\u001b[0m \u001b[0;32min\u001b[0m \u001b[0mrange\u001b[0m\u001b[0;34m(\u001b[0m\u001b[0;36m1\u001b[0m\u001b[0;34m,\u001b[0m\u001b[0mref_rounds\u001b[0m\u001b[0;34m)\u001b[0m\u001b[0;34m]\u001b[0m\u001b[0;34m\u001b[0m\u001b[0m\n\u001b[0m\u001b[1;32m      2\u001b[0m \u001b[0;31m#print firstV\u001b[0m\u001b[0;34m\u001b[0m\u001b[0;34m\u001b[0m\u001b[0m\n\u001b[1;32m      3\u001b[0m \u001b[0;31m#np.mean(expzs['a'][0])\u001b[0m\u001b[0;34m\u001b[0m\u001b[0;34m\u001b[0m\u001b[0m\n\u001b[1;32m      4\u001b[0m \u001b[0;31m#expz['a']\u001b[0m\u001b[0;34m\u001b[0m\u001b[0;34m\u001b[0m\u001b[0m\n\u001b[1;32m      5\u001b[0m \u001b[0mplt\u001b[0m\u001b[0;34m.\u001b[0m\u001b[0mplot\u001b[0m\u001b[0;34m(\u001b[0m\u001b[0merror\u001b[0m\u001b[0;34m)\u001b[0m\u001b[0;34m\u001b[0m\u001b[0m\n",
      "\u001b[0;31mKeyError\u001b[0m: 1"
     ]
    }
   ],
   "source": [
    "firstV = [[expzs[i]['a'][j] for j in range(0,rounds)] for i in range(1,ref_rounds)]\n",
    "#print firstV\n",
    "#np.mean(expzs['a'][0])\n",
    "#expz['a']\n",
    "plt.plot(error)\n",
    "\n",
    "plt.show()"
   ]
  },
  {
   "cell_type": "code",
   "execution_count": 339,
   "metadata": {},
   "outputs": [
    {
     "name": "stdout",
     "output_type": "stream",
     "text": [
      "[0.4500000000000001, 0.14778316588827256, 0.043403034549220759, 0.022478289075425456, 0.019889345350039639, 0.018738725227164188, 0.018297895002824416, 0.01813438754237795, 0.018074306986143679, 0.018052298856958721, 0.018044245836331296, 0.018041300302834434, 0.018040223076112333, 0.018039829138320002, 0.018039685079481366, 0.018039632399071692, 0.018039613134591931, 0.018039606089851418, 0.018039603513692298, 0.018039602571628843]\n"
     ]
    }
   ],
   "source": [
    "print error"
   ]
  },
  {
   "cell_type": "code",
   "execution_count": 327,
   "metadata": {},
   "outputs": [
    {
     "name": "stdout",
     "output_type": "stream",
     "text": [
      "-0.1\n"
     ]
    }
   ],
   "source": [
    "a=0.7-0.8\n",
    "print 0.7-0.8\n"
   ]
  },
  {
   "cell_type": "code",
   "execution_count": null,
   "metadata": {
    "collapsed": true
   },
   "outputs": [],
   "source": []
  }
 ],
 "metadata": {
  "kernelspec": {
   "display_name": "Python 2",
   "language": "python",
   "name": "python2"
  },
  "language_info": {
   "codemirror_mode": {
    "name": "ipython",
    "version": 2
   },
   "file_extension": ".py",
   "mimetype": "text/x-python",
   "name": "python",
   "nbconvert_exporter": "python",
   "pygments_lexer": "ipython2",
   "version": "2.7.12"
  }
 },
 "nbformat": 4,
 "nbformat_minor": 2
}
