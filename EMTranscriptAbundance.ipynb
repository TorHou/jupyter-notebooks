{
 "cells": [
  {
   "cell_type": "code",
   "execution_count": 53,
   "metadata": {},
   "outputs": [],
   "source": [
    "def e_step (theta,y):\n",
    "    ez = {'b':[],'r':[],'g':[]}\n",
    "    for r in range(len(y['r'])):\n",
    "        den = 0\n",
    "        \n",
    "        for i in ['r','g','b']:\n",
    "            den += theta[i]*y[i][r]\n",
    "        #print den\n",
    "        for i in ['r','g','b']:\n",
    "            ez[i].append(theta[i]*y[i][r]/den)\n",
    "            \n",
    "    return ez"
   ]
  },
  {
   "cell_type": "code",
   "execution_count": 54,
   "metadata": {
    "collapsed": true
   },
   "outputs": [],
   "source": [
    "def m_step(ez):\n",
    "    ny = {}\n",
    "    for i in ['r','g','b']:\n",
    "        ny[i]= sum(ez[i])/5\n",
    "    return ny"
   ]
  },
  {
   "cell_type": "code",
   "execution_count": 66,
   "metadata": {
    "scrolled": true
   },
   "outputs": [
    {
     "name": "stdout",
     "output_type": "stream",
     "text": [
      "{'r': 0.4666666666666666, 'b': 0.26666666666666666, 'g': 0.26666666666666666}\n",
      "{'r': 0.5478787878787879, 'b': 0.22606060606060607, 'g': 0.22606060606060607}\n",
      "{'r': 0.592739422415225, 'b': 0.20363028879238748, 'g': 0.20363028879238748}\n",
      "{'r': 0.6162686109614024, 'b': 0.19186569451929886, 'g': 0.19186569451929886}\n",
      "{'r': 0.6282864905239396, 'b': 0.18585675473803023, 'g': 0.18585675473803023}\n",
      "{'r': 0.6343432666639319, 'b': 0.18282836666803406, 'g': 0.18282836666803406}\n",
      "{'r': 0.6373754016287042, 'b': 0.18131229918564792, 'g': 0.18131229918564792}\n",
      "{'r': 0.6388882851386161, 'b': 0.18055585743069202, 'g': 0.18055585743069202}\n",
      "{'r': 0.6396418839830482, 'b': 0.1801790580084759, 'g': 0.1801790580084759}\n",
      "{'r': 0.6400169567390631, 'b': 0.17999152163046844, 'g': 0.17999152163046844}\n",
      "{'r': 0.6402035568932443, 'b': 0.17989822155337784, 'g': 0.17989822155337784}\n",
      "{'r': 0.6402963721849805, 'b': 0.1798518139075098, 'g': 0.1798518139075098}\n",
      "{'r': 0.6403425339955425, 'b': 0.17982873300222874, 'g': 0.17982873300222874}\n",
      "{'r': 0.6403654914713515, 'b': 0.17981725426432432, 'g': 0.17981725426432432}\n",
      "{'r': 0.640376908536933, 'b': 0.1798115457315335, 'g': 0.1798115457315335}\n",
      "3.20188454268\n",
      "0.899057728658\n",
      "0.899057728658\n"
     ]
    }
   ],
   "source": [
    "from __future__ import division\n",
    "from math import sqrt\n",
    "y = {'r':[1,0,1,1,1],'g':[1,1,0,0,1],'b':[1,1,1,0,0]}\n",
    "cth = {'r':1/3,'g':1/3,'b':1/3}\n",
    "for round in range (15):\n",
    "    expz = e_step(cth,y)\n",
    "    cth = m_step(expz)\n",
    "    print cth\n",
    "\n",
    "for i in ['r','g','b']:\n",
    "    print cth [i]*5"
   ]
  },
  {
   "cell_type": "code",
   "execution_count": 63,
   "metadata": {},
   "outputs": [
    {
     "data": {
      "text/plain": [
       "0.1798058983988962"
      ]
     },
     "execution_count": 63,
     "metadata": {},
     "output_type": "execute_result"
    }
   ],
   "source": [
    "(7-sqrt(17))/16"
   ]
  },
  {
   "cell_type": "code",
   "execution_count": null,
   "metadata": {
    "collapsed": true
   },
   "outputs": [],
   "source": []
  }
 ],
 "metadata": {
  "kernelspec": {
   "display_name": "Python 2",
   "language": "python",
   "name": "python2"
  },
  "language_info": {
   "codemirror_mode": {
    "name": "ipython",
    "version": 2
   },
   "file_extension": ".py",
   "mimetype": "text/x-python",
   "name": "python",
   "nbconvert_exporter": "python",
   "pygments_lexer": "ipython2",
   "version": "2.7.12"
  }
 },
 "nbformat": 4,
 "nbformat_minor": 2
}
